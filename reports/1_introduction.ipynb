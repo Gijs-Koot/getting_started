{
 "cells": [
  {
   "cell_type": "markdown",
   "metadata": {
    "slideshow": {
     "slide_type": "slide"
    }
   },
   "source": [
    "### Getting started\n",
    "\n",
    "---\n",
    "\n",
    "#### Learn to\n",
    "\n",
    "> Efficiently perform a basic data analysis project\n",
    "\n",
    "> Use common tools for data analysis\n",
    "\n",
    "#### How\n",
    "\n",
    "* Six sessions focussing on different aspects\n",
    "* Prepared by Gijs and Frederieke\n",
    "* Plenty of time for questions and discussion\n",
    "* Final assessment for additional practice"
   ]
  },
  {
   "cell_type": "markdown",
   "metadata": {
    "slideshow": {
     "slide_type": "subslide"
    }
   },
   "source": [
    "### Program\n",
    "\n",
    "---\n",
    "\n",
    "* Tools and project structure\n",
    "* Data cleanup and exploration\n",
    "* Regression\n",
    "* Interpretation and presenting results\n",
    "* Model improvements\n",
    "* Worksession"
   ]
  }
 ],
 "metadata": {
  "celltoolbar": "Slideshow",
  "kernelspec": {
   "display_name": "Python 3",
   "language": "python",
   "name": "python3"
  },
  "language_info": {
   "codemirror_mode": {
    "name": "ipython",
    "version": 3
   },
   "file_extension": ".py",
   "mimetype": "text/x-python",
   "name": "python",
   "nbconvert_exporter": "python",
   "pygments_lexer": "ipython3",
   "version": "3.5.2"
  }
 },
 "nbformat": 4,
 "nbformat_minor": 2
}
