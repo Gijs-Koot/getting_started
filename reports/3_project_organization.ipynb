{
 "cells": [
  {
   "cell_type": "markdown",
   "metadata": {
    "slideshow": {
     "slide_type": "slide"
    }
   },
   "source": [
    "### Folder structure and naming files\n",
    "\n",
    "* Separate folders for code, notes, data and reports\n",
    "* Cleanup and organize your project every now and then, it's a process\n",
    "\n",
    "```\n",
    "./project\n",
    "├── code\n",
    "│   ├── 1_preprocess.py\n",
    "│   └── 2_exploration.ipynb\n",
    "├── data\n",
    "│   └── raw\n",
    "│       ├── gezinssamenstelling_2016_amsterdam.xlsx\n",
    "│       └── woz_waardes_2015_amsterdam.xlsx\n",
    "├── .gitignore\n",
    "├── README.md\n",
    "└── reports\n",
    "    ├── figures\n",
    "    │   └── plot.png\n",
    "    └── summary.md\n",
    "```"
   ]
  },
  {
   "cell_type": "markdown",
   "metadata": {
    "slideshow": {
     "slide_type": "subslide"
    }
   },
   "source": [
    "### Code style\n",
    "\n",
    "* Don't create one big script or one big notebook\n",
    "* Keep cleaning up and organizing for readability"
   ]
  },
  {
   "cell_type": "code",
   "execution_count": 14,
   "metadata": {
    "slideshow": {
     "slide_type": "-"
    }
   },
   "outputs": [
    {
     "name": "stderr",
     "output_type": "stream",
     "text": [
      "/usr/share/anaconda3/anaconda3/envs/py35/lib/python3.5/site-packages/ipykernel/__main__.py:7: DeprecationWarning: \n",
      ".ix is deprecated. Please use\n",
      ".loc for label based indexing or\n",
      ".iloc for positional indexing\n",
      "\n",
      "See the documentation here:\n",
      "http://pandas.pydata.org/pandas-docs/stable/indexing.html#deprecate_ix\n"
     ]
    },
    {
     "data": {
      "text/html": [
       "<div>\n",
       "<style>\n",
       "    .dataframe thead tr:only-child th {\n",
       "        text-align: right;\n",
       "    }\n",
       "\n",
       "    .dataframe thead th {\n",
       "        text-align: left;\n",
       "    }\n",
       "\n",
       "    .dataframe tbody tr th {\n",
       "        vertical-align: top;\n",
       "    }\n",
       "</style>\n",
       "<table border=\"1\" class=\"dataframe\">\n",
       "  <thead>\n",
       "    <tr style=\"text-align: right;\">\n",
       "      <th>1</th>\n",
       "      <th>buurt</th>\n",
       "      <th>alleenstaand</th>\n",
       "      <th>gehuwd samenw. zonder kinderen</th>\n",
       "      <th>ongehuwd samenw. zonder kinderen</th>\n",
       "      <th>gehuwd samenw. met kinderen</th>\n",
       "      <th>ongehuwd samenw. met kinderen</th>\n",
       "      <th>eenoudergezin</th>\n",
       "      <th>overig</th>\n",
       "      <th>totaal</th>\n",
       "    </tr>\n",
       "  </thead>\n",
       "  <tbody>\n",
       "    <tr>\n",
       "      <th>0</th>\n",
       "      <td>NaN</td>\n",
       "      <td>NaN</td>\n",
       "      <td>NaN</td>\n",
       "      <td>NaN</td>\n",
       "      <td>NaN</td>\n",
       "      <td>NaN</td>\n",
       "      <td>NaN</td>\n",
       "      <td>NaN</td>\n",
       "      <td>NaN</td>\n",
       "    </tr>\n",
       "    <tr>\n",
       "      <th>1</th>\n",
       "      <td>buurt</td>\n",
       "      <td>alleenstaand</td>\n",
       "      <td>gehuwd samenw. zonder kinderen</td>\n",
       "      <td>ongehuwd samenw. zonder kinderen</td>\n",
       "      <td>gehuwd samenw. met kinderen</td>\n",
       "      <td>ongehuwd samenw. met kinderen</td>\n",
       "      <td>eenoudergezin</td>\n",
       "      <td>overig</td>\n",
       "      <td>totaal</td>\n",
       "    </tr>\n",
       "    <tr>\n",
       "      <th>2</th>\n",
       "      <td>NaN</td>\n",
       "      <td>NaN</td>\n",
       "      <td>NaN</td>\n",
       "      <td>NaN</td>\n",
       "      <td>NaN</td>\n",
       "      <td>NaN</td>\n",
       "      <td>NaN</td>\n",
       "      <td>NaN</td>\n",
       "      <td>NaN</td>\n",
       "    </tr>\n",
       "    <tr>\n",
       "      <th>3</th>\n",
       "      <td>A00a Kop Zeedijk</td>\n",
       "      <td>458</td>\n",
       "      <td>42</td>\n",
       "      <td>113</td>\n",
       "      <td>12</td>\n",
       "      <td>12</td>\n",
       "      <td>27</td>\n",
       "      <td>19</td>\n",
       "      <td>683</td>\n",
       "    </tr>\n",
       "    <tr>\n",
       "      <th>4</th>\n",
       "      <td>A00b Oude Kerk e.o.</td>\n",
       "      <td>295</td>\n",
       "      <td>14</td>\n",
       "      <td>88</td>\n",
       "      <td>7</td>\n",
       "      <td>7</td>\n",
       "      <td>28</td>\n",
       "      <td>17</td>\n",
       "      <td>456</td>\n",
       "    </tr>\n",
       "  </tbody>\n",
       "</table>\n",
       "</div>"
      ],
      "text/plain": [
       "1                buurt  alleenstaand  gehuwd samenw. zonder kinderen  \\\n",
       "0                  NaN           NaN                             NaN   \n",
       "1                buurt  alleenstaand  gehuwd samenw. zonder kinderen   \n",
       "2                  NaN           NaN                             NaN   \n",
       "3     A00a Kop Zeedijk           458                              42   \n",
       "4  A00b Oude Kerk e.o.           295                              14   \n",
       "\n",
       "1  ongehuwd samenw. zonder kinderen  gehuwd samenw. met kinderen  \\\n",
       "0                               NaN                          NaN   \n",
       "1  ongehuwd samenw. zonder kinderen  gehuwd samenw. met kinderen   \n",
       "2                               NaN                          NaN   \n",
       "3                               113                           12   \n",
       "4                                88                            7   \n",
       "\n",
       "1  ongehuwd samenw. met kinderen  eenoudergezin  overig  totaal  \n",
       "0                            NaN            NaN     NaN     NaN  \n",
       "1  ongehuwd samenw. met kinderen  eenoudergezin  overig  totaal  \n",
       "2                            NaN            NaN     NaN     NaN  \n",
       "3                             12             27      19     683  \n",
       "4                              7             28      17     456  "
      ]
     },
     "execution_count": 14,
     "metadata": {},
     "output_type": "execute_result"
    }
   ],
   "source": [
    "import pandas as pd\n",
    "import numpy, os\n",
    "\n",
    "with open(\"/home/gijs/Documents/tectime/getting_started/project/data/raw/gezinssamenstelling_2016_amsterdam.xlsx\") as f:\n",
    "    df_1 = pd.read_excel(\"/home/gijs/Documents/tectime/getting_started/project/data/raw/gezinssamenstelling_2016_amsterdam.xlsx\")\n",
    "\n",
    "Data2 = df_1.ix[:-3] # dont read last lines\n",
    "Data_3 = data_1\n",
    "Data_3.columns = data_1.iloc[1,:] # assign columns\n",
    "Data_3.head(5)"
   ]
  }
 ],
 "metadata": {
  "celltoolbar": "Slideshow",
  "kernelspec": {
   "display_name": "Python 3",
   "language": "python",
   "name": "python3"
  },
  "language_info": {
   "codemirror_mode": {
    "name": "ipython",
    "version": 3
   },
   "file_extension": ".py",
   "mimetype": "text/x-python",
   "name": "python",
   "nbconvert_exporter": "python",
   "pygments_lexer": "ipython3",
   "version": "3.5.2"
  }
 },
 "nbformat": 4,
 "nbformat_minor": 2
}
