{
 "cells": [
  {
   "cell_type": "markdown",
   "metadata": {
    "slideshow": {
     "slide_type": "slide"
    }
   },
   "source": [
    "<center>\n",
    "<h3>Programs and technologies</h3>\n",
    "</center>\n",
    "---\n",
    "\n",
    "Activity | What we will use | Alternatives\n",
    "--- | --- | ---\n",
    "Analysis platform | `python` | `R`, Excel, SPSS\n",
    "Writing code | `jupyter-notebook`| Excel, RStudio, PyCharm\n",
    "Backups | `git` | Dropbox, SVN, Virtual Desktops\n",
    "Creating presentations | `jupyter-notebook` | Powerpoint, RMarkdown, Google Sheets\n",
    "Taking notes | - | Sublime, Atom, Notepad++, `nano`, `vim`\n",
    "Command line | - | Terminal (Mac OS X), `cmd.exe` (Windows), Bash (Ubuntu)"
   ]
  },
  {
   "cell_type": "markdown",
   "metadata": {
    "slideshow": {
     "slide_type": "subslide"
    }
   },
   "source": [
    "### Command line\n",
    "\n",
    "* Your operating system is also important, are you using Windows, Mac or Linux?\n",
    "* Most data scientists will be somewhat proficient with their **Command Line** (or **Terminal** or **Prompt** or **Bash**)\n",
    "    * Moving files around and navigating directory structure\n",
    "    * Starting the notebook\n",
    "    * Installing packages with `conda` or `pip`\n",
    "    * Interacting with `git`\n",
    "<center> \n",
    "![img](https://www.computerhope.com/issues/pictures/dos.jpg)\n",
    "</center>"
   ]
  },
  {
   "cell_type": "markdown",
   "metadata": {
    "slideshow": {
     "slide_type": "subslide"
    }
   },
   "source": [
    "### [Python](http://ww.python.org)\n",
    "\n",
    "* Python (version 3.6) is a popular language, easy to learn and most people at Xomnia use it as a basis for trainings\n",
    "* Package management can be annoying, especially on Windows, [Anaconda](https://www.continuum.io/downloads) can make it easier\n",
    "\n",
    "> Use Anaconda to install `python` and many of the packages we will need\n",
    "\n",
    "> Try running `python` to test\n",
    "\n",
    "![](https://www.python.org/static/community_logos/python-logo-master-v3-TM.png)"
   ]
  },
  {
   "cell_type": "markdown",
   "metadata": {
    "slideshow": {
     "slide_type": "subslide"
    }
   },
   "source": [
    "### [Jupyter notebook](http://jupyter.org/)\n",
    "\n",
    "* You can code your analysis in scripts, but the `jupyter-notebook` is what we recommend and use\n",
    "* The notebook allows you to combine notes, visualizations and scripting\n",
    "* Also makes it easy to run code step-by-step and debug along the way\n",
    "\n",
    "> Make a new folder and create a notebook\n",
    "\n",
    "![](https://www.software.ac.uk/sites/default/files/images/content/jupyter-main-logo.svg)\n"
   ]
  },
  {
   "cell_type": "markdown",
   "metadata": {
    "slideshow": {
     "slide_type": "subslide"
    }
   },
   "source": [
    "### Version control and backups\n",
    "\n",
    "* `git` is a system for version control and backing up your code\n",
    "* Be careful with passwords and sensitive information, data is usually not in the repository\n",
    "\n",
    "> Install `git` [https://git-scm.com/downloads](https://git-scm.com/downloads)\n",
    "\n",
    "> Create a GitHub account and make your first commit with the notebook\n",
    "\n",
    "![](https://imgs.xkcd.com/comics/git.png)"
   ]
  },
  {
   "cell_type": "markdown",
   "metadata": {
    "slideshow": {
     "slide_type": "subslide"
    }
   },
   "source": [
    "### Notes\n",
    "\n",
    "---\n",
    "\n",
    "* \"Plain text\" is a very flexible and lightweight way to keep data and notes, for example in the form of `.csv`, `.json`, `.txt` or `.md` files\n",
    "* You can use any program you want to edit and read those files, and anyone can easily read it\n",
    "* Markdown is a common format for taking notes, integrating well with `jupyter-notebook`, `git` and many editors\n",
    "\n",
    "what | how\n",
    "--- | ---\n",
    "bullets | `*`\n",
    "headers | `##`, `###`\n",
    "*bold*, _italic_ | `*`, `_`\n",
    "tables | _see source_\n",
    "lines | `---`\n",
    "images | `![]()`\n",
    "\n",
    "> Write a `README.md` in your project and commit it to the repository"
   ]
  }
 ],
 "metadata": {
  "celltoolbar": "Slideshow",
  "kernelspec": {
   "display_name": "Python 3",
   "language": "python",
   "name": "python3"
  },
  "language_info": {
   "codemirror_mode": {
    "name": "ipython",
    "version": 3
   },
   "file_extension": ".py",
   "mimetype": "text/x-python",
   "name": "python",
   "nbconvert_exporter": "python",
   "pygments_lexer": "ipython3",
   "version": "3.5.2"
  }
 },
 "nbformat": 4,
 "nbformat_minor": 2
}
